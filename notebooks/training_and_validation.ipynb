{
 "cells": [
  {
   "cell_type": "markdown",
   "id": "4e2094b8",
   "metadata": {},
   "source": [
    "# Feedback Prize Effectiveness: Model Training and Validation\n",
    "\n",
    "This notebook covers the complete pipeline for training and validating a model to predict the effectiveness of discourse elements in student essays. The process includes:\n",
    "1. **Setup and Configuration**: Importing necessary libraries and defining constants, including file paths and model hyperparameters.\n",
    "2. **Data Loading and Preprocessing**: Loading the training data, including essay texts, and performing initial cleaning.\n",
    "3. **Target Encoding**: Converting categorical effectiveness labels into numerical format.\n",
    "4. **Metric Selection and Appropriateness**: Discussion of the Log Loss metric used for evaluation.\n",
    "5. **Validation Strategy**: Justification of the stratified train-validation split.\n",
    "6. **Tokenizer Initialization**: Setting up the tokenizer for the chosen pre-trained model.\n",
    "7. **PyTorch Dataset and DataLoader Creation**: Defining a custom PyTorch Dataset and creating DataLoaders for efficient batch processing.\n",
    "8. **Model Definition**: Loading a pre-trained transformer model for sequence classification.\n",
    "9. **Optimizer, Scheduler, and Loss Function**: Configuring the optimizer, learning rate scheduler, and loss function.\n",
    "10. **Training and Evaluation Loop**: Implementing the main loop for training the model and evaluating it on the validation set epoch by epoch.\n",
    "11. **Saving the Best Model**: Storing the model weights that achieve the best validation performance."
   ]
  },
  {
   "cell_type": "code",
   "execution_count": 1,
   "id": "9305740a",
   "metadata": {},
   "outputs": [
    {
     "name": "stderr",
     "output_type": "stream",
     "text": [
      "\u001b[34m\u001b[1mwandb\u001b[0m: Using wandb-core as the SDK backend.  Please refer to https://wandb.me/wandb-core for more information.\n"
     ]
    },
    {
     "name": "stdout",
     "output_type": "stream",
     "text": [
      "Using device: cuda\n"
     ]
    },
    {
     "name": "stderr",
     "output_type": "stream",
     "text": [
      "\u001b[34m\u001b[1mwandb\u001b[0m: Currently logged in as: \u001b[33mdenis-katkalo\u001b[0m (\u001b[33mdenis-katkalo-kpi\u001b[0m) to \u001b[32mhttps://api.wandb.ai\u001b[0m. Use \u001b[1m`wandb login --relogin`\u001b[0m to force relogin\n"
     ]
    },
    {
     "data": {
      "text/html": [
       "Tracking run with wandb version 0.19.8"
      ],
      "text/plain": [
       "<IPython.core.display.HTML object>"
      ]
     },
     "metadata": {},
     "output_type": "display_data"
    },
    {
     "data": {
      "text/html": [
       "Run data is saved locally in <code>../outputs/wandb/run-20250515_195800-rsrtih9z</code>"
      ],
      "text/plain": [
       "<IPython.core.display.HTML object>"
      ]
     },
     "metadata": {},
     "output_type": "display_data"
    },
    {
     "data": {
      "text/html": [
       "Syncing run <strong><a href='https://wandb.ai/denis-katkalo-kpi/feedback-prize-effectiveness-lab/runs/rsrtih9z' target=\"_blank\">bert-base-uncased-e2-lr2e-05-bs8-20250515-1957</a></strong> to <a href='https://wandb.ai/denis-katkalo-kpi/feedback-prize-effectiveness-lab' target=\"_blank\">Weights & Biases</a> (<a href='https://wandb.me/developer-guide' target=\"_blank\">docs</a>)<br>"
      ],
      "text/plain": [
       "<IPython.core.display.HTML object>"
      ]
     },
     "metadata": {},
     "output_type": "display_data"
    },
    {
     "data": {
      "text/html": [
       " View project at <a href='https://wandb.ai/denis-katkalo-kpi/feedback-prize-effectiveness-lab' target=\"_blank\">https://wandb.ai/denis-katkalo-kpi/feedback-prize-effectiveness-lab</a>"
      ],
      "text/plain": [
       "<IPython.core.display.HTML object>"
      ]
     },
     "metadata": {},
     "output_type": "display_data"
    },
    {
     "data": {
      "text/html": [
       " View run at <a href='https://wandb.ai/denis-katkalo-kpi/feedback-prize-effectiveness-lab/runs/rsrtih9z' target=\"_blank\">https://wandb.ai/denis-katkalo-kpi/feedback-prize-effectiveness-lab/runs/rsrtih9z</a>"
      ],
      "text/plain": [
       "<IPython.core.display.HTML object>"
      ]
     },
     "metadata": {},
     "output_type": "display_data"
    },
    {
     "data": {
      "text/html": [
       "<button onClick=\"this.nextSibling.style.display='block';this.style.display='none';\">Display W&B run</button><iframe src='https://wandb.ai/denis-katkalo-kpi/feedback-prize-effectiveness-lab/runs/rsrtih9z?jupyter=true' style='border:none;width:100%;height:420px;display:none;'></iframe>"
      ],
      "text/plain": [
       "<wandb.sdk.wandb_run.Run at 0x7f19662cc370>"
      ]
     },
     "execution_count": 1,
     "metadata": {},
     "output_type": "execute_result"
    }
   ],
   "source": [
    "# --- Cell 1: Setup and Configuration ---\n",
    "import os\n",
    "import warnings\n",
    "\n",
    "# Suppress the Tqdm IProgress not found warning\n",
    "warnings.filterwarnings(\"ignore\", message=\"IProgress not found. Please update jupyter and ipywidgets.\")\n",
    "\n",
    "import pandas as pd\n",
    "import os\n",
    "from tqdm import tqdm\n",
    "import torch\n",
    "import torch.nn as nn\n",
    "from transformers import AutoTokenizer, AutoModelForSequenceClassification, AdamW, get_linear_schedule_with_warmup\n",
    "from sklearn.preprocessing import LabelEncoder\n",
    "from sklearn.model_selection import train_test_split\n",
    "from sklearn.metrics import log_loss, accuracy_score\n",
    "from torch.utils.data import Dataset, DataLoader\n",
    "import numpy as np\n",
    "import time\n",
    "import math\n",
    "import datetime\n",
    "\n",
    "# --- Weights & Biases Setup ---\n",
    "import wandb\n",
    "# Ensure you have logged in to wandb separately (e.g., `wandb login` in terminal or set API key)\n",
    "\n",
    "# --- Set TOKENIZERS_PARALLELISM to false to suppress the warning ---\n",
    "os.environ[\"TOKENIZERS_PARALLELISM\"] = \"false\"\n",
    "\n",
    "# --- Project Directory Structure ---\n",
    "PROJECT_ROOT = \"../\"\n",
    "DATA_DIR = os.path.join(PROJECT_ROOT, \"data/feedback-prize-effectiveness/\")\n",
    "MODELS_OUTPUT_DIR = os.path.join(PROJECT_ROOT, \"models/\")\n",
    "\n",
    "TRAIN_CSV = os.path.join(DATA_DIR, \"train.csv\")\n",
    "# TEST_CSV is defined but primarily for structure/submission, not for hidden test simulation\n",
    "TEST_CSV = os.path.join(DATA_DIR, \"test.csv\")\n",
    "TRAIN_ESSAYS_DIR = os.path.join(DATA_DIR, \"train/\")\n",
    "TEST_ESSAYS_DIR = os.path.join(DATA_DIR, \"test/\")\n",
    "\n",
    "if not os.path.exists(MODELS_OUTPUT_DIR):\n",
    "    os.makedirs(MODELS_OUTPUT_DIR)\n",
    "    print(f\"Created models directory: {MODELS_OUTPUT_DIR}\")\n",
    "\n",
    "# --- Model and Training Hyperparameters ---\n",
    "MODEL_NAME = 'bert-base-uncased'\n",
    "MAX_LEN = 512\n",
    "NUM_LABELS = 3 # Initial guess, will be confirmed by LabelEncoder\n",
    "\n",
    "LEARNING_RATE = 2e-5\n",
    "ADAM_EPSILON = 1e-8\n",
    "BATCH_SIZE = 8\n",
    "EPOCHS = 2\n",
    "WARMUP_STEPS_RATIO = 0.1\n",
    "\n",
    "# --- Device Configuration ---\n",
    "device = torch.device(\"cuda\" if torch.cuda.is_available() else \"cpu\")\n",
    "print(f\"Using device: {device}\")\n",
    "\n",
    "# --- wandb Initialization ---\n",
    "wandb.init(\n",
    "    project=\"feedback-prize-effectiveness-lab\",  # Choose your project name\n",
    "    entity=None, # wandb username or team (can be set via env WANDB_ENTITY)\n",
    "    config={\n",
    "        \"model_name\": MODEL_NAME,\n",
    "        \"max_len\": MAX_LEN,\n",
    "        \"learning_rate\": LEARNING_RATE,\n",
    "        \"batch_size\": BATCH_SIZE,\n",
    "        \"epochs\": EPOCHS,\n",
    "        \"warmup_steps_ratio\": WARMUP_STEPS_RATIO,\n",
    "        \"adam_epsilon\": ADAM_EPSILON,\n",
    "        \"device\": str(device),\n",
    "        \"validation_split_ratio\": 0.1, \n",
    "        \"random_state_split\": 42 \n",
    "    },\n",
    "    name=f\"{MODEL_NAME}-e{EPOCHS}-lr{LEARNING_RATE}-bs{BATCH_SIZE}-{time.strftime('%Y%m%d-%H%M')}\",\n",
    "    notes=\"Training run for IASA NLP Lab1.\",\n",
    "    dir=os.path.join(PROJECT_ROOT, \"outputs\")\n",
    ")\n",
    "# NUM_LABELS will be updated in wandb.config after LabelEncoder fitting"
   ]
  },
  {
   "cell_type": "markdown",
   "id": "e9802849",
   "metadata": {},
   "source": [
    "## 1. Data Loading and Preprocessing\n",
    "This section involves loading the `train.csv` data and the full text of each essay."
   ]
  },
  {
   "cell_type": "code",
   "execution_count": 2,
   "id": "1f13726f",
   "metadata": {},
   "outputs": [],
   "source": [
    "# Cell 2: Helper Function - Load Essay Texts\n",
    "def load_essay_texts(essay_ids, essays_dir):\n",
    "    \"\"\"Loads the full text for a list of essay IDs from the specified directory.\"\"\"\n",
    "    essay_texts = {}\n",
    "    for essay_id in tqdm(essay_ids, desc=f\"Loading essays from {essays_dir}\"):\n",
    "        essay_path = os.path.join(essays_dir, f\"{essay_id}.txt\")\n",
    "        try:\n",
    "            with open(essay_path, 'r') as f:\n",
    "                essay_texts[essay_id] = f.read()\n",
    "        except FileNotFoundError:\n",
    "            print(f\"Warning: Essay file not found {essay_path}\")\n",
    "            essay_texts[essay_id] = \"\" # Provide an empty string if not found\n",
    "    return essay_texts"
   ]
  },
  {
   "cell_type": "code",
   "execution_count": 3,
   "id": "937778d7",
   "metadata": {},
   "outputs": [
    {
     "name": "stdout",
     "output_type": "stream",
     "text": [
      "Loading ../data/feedback-prize-effectiveness/train.csv...\n",
      "Train data original shape: (36765, 5)\n"
     ]
    },
    {
     "name": "stderr",
     "output_type": "stream",
     "text": [
      "Loading essays from ../data/feedback-prize-effectiveness/train/: 100%|██████████| 4191/4191 [00:00<00:00, 4641.79it/s]"
     ]
    },
    {
     "name": "stdout",
     "output_type": "stream",
     "text": [
      "\n",
      "Number of rows in train_df with missing 'discourse_text' after fillna: 0\n",
      "Number of rows in train_df with missing 'essay_full_text' after fillna: 0\n",
      "\n",
      "Train data shape after loading essays: (36765, 6)\n",
      "\n",
      "First 5 rows of training data:\n",
      "   discourse_id      essay_id  \\\n",
      "0  0013cc385424  007ACE74B050   \n",
      "1  9704a709b505  007ACE74B050   \n",
      "2  c22adee811b6  007ACE74B050   \n",
      "3  a10d361e54e4  007ACE74B050   \n",
      "4  db3e453ec4e2  007ACE74B050   \n",
      "\n",
      "                                      discourse_text discourse_type  \\\n",
      "0  Hi, i'm Isaac, i'm going to be writing about h...           Lead   \n",
      "1  On my perspective, I think that the face is a ...       Position   \n",
      "2  I think that the face is a natural landform be...          Claim   \n",
      "3  If life was on Mars, we would know by now. The...       Evidence   \n",
      "4  People thought that the face was formed by ali...   Counterclaim   \n",
      "\n",
      "  discourse_effectiveness                                    essay_full_text  \n",
      "0                Adequate  Hi, i'm Isaac, i'm going to be writing about h...  \n",
      "1                Adequate  Hi, i'm Isaac, i'm going to be writing about h...  \n",
      "2                Adequate  Hi, i'm Isaac, i'm going to be writing about h...  \n",
      "3                Adequate  Hi, i'm Isaac, i'm going to be writing about h...  \n",
      "4                Adequate  Hi, i'm Isaac, i'm going to be writing about h...  \n"
     ]
    },
    {
     "name": "stderr",
     "output_type": "stream",
     "text": [
      "\n"
     ]
    }
   ],
   "source": [
    "# Cell 3: Main Data Loading\n",
    "print(f\"Loading {TRAIN_CSV}...\")\n",
    "df_train = pd.read_csv(TRAIN_CSV)\n",
    "# df_test = pd.read_csv(TEST_CSV) # Test data for submission is loaded\n",
    "\n",
    "print(f\"Train data original shape: {df_train.shape}\")\n",
    "\n",
    "train_essay_ids = df_train['essay_id'].unique()\n",
    "train_essay_texts_map = load_essay_texts(train_essay_ids, TRAIN_ESSAYS_DIR)\n",
    "\n",
    "df_train['essay_full_text'] = df_train['essay_id'].map(train_essay_texts_map)\n",
    "\n",
    "# Fill any potential NaN values in text columns with empty strings (or a placeholder)\n",
    "df_train['discourse_text'] = df_train['discourse_text'].fillna('')\n",
    "df_train['essay_full_text'] = df_train['essay_full_text'].fillna('')\n",
    "\n",
    "print(f\"\\nNumber of rows in train_df with missing 'discourse_text' after fillna: {df_train['discourse_text'].eq('').sum()}\")\n",
    "print(f\"Number of rows in train_df with missing 'essay_full_text' after fillna: {df_train['essay_full_text'].eq('').sum()}\")\n",
    "print(f\"\\nTrain data shape after loading essays: {df_train.shape}\")\n",
    "print(\"\\nFirst 5 rows of training data:\")\n",
    "print(df_train.head())"
   ]
  },
  {
   "cell_type": "markdown",
   "id": "dd791683",
   "metadata": {},
   "source": [
    "## 2. Target Encoding\n",
    "The target labels ('Ineffective', 'Adequate', 'Effective') are converted into numerical format using `LabelEncoder`."
   ]
  },
  {
   "cell_type": "code",
   "execution_count": 4,
   "id": "97c3cadd",
   "metadata": {},
   "outputs": [
    {
     "name": "stdout",
     "output_type": "stream",
     "text": [
      "Label Encoding Mapping:\n",
      "Adequate: 0\n",
      "Effective: 1\n",
      "Ineffective: 2\n",
      "Number of unique labels: 3\n",
      "\n",
      "Train DataFrame with encoded labels (first 5 rows):\n",
      "  discourse_effectiveness  effectiveness_encoded\n",
      "0                Adequate                      0\n",
      "1                Adequate                      0\n",
      "2                Adequate                      0\n",
      "3                Adequate                      0\n",
      "4                Adequate                      0\n"
     ]
    }
   ],
   "source": [
    "# --- Cell 4: Target Encoding ---\n",
    "label_encoder = LabelEncoder()\n",
    "df_train['effectiveness_encoded'] = label_encoder.fit_transform(df_train['discourse_effectiveness'])\n",
    "\n",
    "# Update NUM_LABELS based on the fitted encoder AND update wandb config\n",
    "NUM_LABELS = len(label_encoder.classes_)\n",
    "wandb.config.update({\"num_labels\": NUM_LABELS}, allow_val_change=True) # Log actual NUM_LABELS\n",
    "\n",
    "print(\"Label Encoding Mapping:\")\n",
    "for i, class_name in enumerate(label_encoder.classes_):\n",
    "    print(f\"{class_name}: {i}\")\n",
    "print(f\"Number of unique labels: {NUM_LABELS}\")\n",
    "\n",
    "print(\"\\nTrain DataFrame with encoded labels (first 5 rows):\")\n",
    "print(df_train[['discourse_effectiveness', 'effectiveness_encoded']].head())"
   ]
  },
  {
   "cell_type": "markdown",
   "id": "4c2b3738",
   "metadata": {},
   "source": [
    "## 3. Development of Validation Strategy: Simulating the Hidden Test Set\n",
    "\n",
    "The `test.csv` provided for this Kaggle competition is a small sample file, not the actual hidden test set used for final scoring. Therefore, our primary method is to create a reliable hold-out validation set from our available `train.csv` data.\n",
    "\n",
    "### 3.1. Chosen Strategy: Stratified Train-Validation Split\n",
    "\n",
    "We use a **stratified 90/10 train-validation split** from `train.csv`.\n",
    "\n",
    "**Justification for Simulating the Split:**\n",
    "\n",
    "* **Mimicking Unseen Data:** This local validation set contains data the model hasn't been trained on for a given iteration, which is how we simulate performance on an unseen hidden test set.\n",
    "* **Stratification for Representativeness:** Given the class imbalance observed during EDA, stratification ensures our validation set reflects the training data's class distribution. This is crucial for a more reliable estimate of performance, assuming the hidden test set shares similar class proportions.\n",
    "* **Baseline Generalization Check:** Performance on this local split serves as our primary proxy for how the model might generalize to the actual Kaggle test data.\n",
    "\n",
    "**Limitations and Robustness Considerations:**\n",
    "\n",
    "A single train-validation split provides a useful baseline but can be subject to some variability depending on the specific samples that end up in the split. For a more robust simulation of performance on unseen data, K-Fold Cross-Validation (particularly `StratifiedKFold` or `GroupKFold` by `essay_id` to ensure essay integrity within folds) would be a preferred approach if time and computational resources permitted. This involves training and evaluating the model multiple times on different subsets of the data, giving a more stable performance estimate. For this lab, our single stratified split serves as a practical and informative baseline."
   ]
  },
  {
   "cell_type": "code",
   "execution_count": 5,
   "id": "40771d9f",
   "metadata": {},
   "outputs": [
    {
     "name": "stdout",
     "output_type": "stream",
     "text": [
      "Data split sizes:\n",
      "  Training set: 33088 samples\n",
      "  Validation set: 3677 samples\n"
     ]
    }
   ],
   "source": [
    "# Cell 5: Data Splitting\n",
    "df_train_split, df_val_split = train_test_split(\n",
    "    df_train,\n",
    "    test_size=0.1, # 10% for validation\n",
    "    random_state=42, # For reproducibility\n",
    "    stratify=df_train['effectiveness_encoded'] # Ensure proportional class representation\n",
    ")\n",
    "\n",
    "print(f\"Data split sizes:\")\n",
    "print(f\"  Training set: {len(df_train_split)} samples\")\n",
    "print(f\"  Validation set: {len(df_val_split)} samples\")"
   ]
  },
  {
   "cell_type": "markdown",
   "id": "4ea7bbd3",
   "metadata": {},
   "source": [
    "## 4. Tokenizer and PyTorch Dataset\n",
    "\n",
    "### 4.1. Tokenizer Initialization\n",
    "We use the `AutoTokenizer` from the Hugging Face `transformers` library, corresponding to the chosen `MODEL_NAME`."
   ]
  },
  {
   "cell_type": "code",
   "execution_count": 6,
   "id": "3776337f",
   "metadata": {},
   "outputs": [],
   "source": [
    "# Cell 6: Tokenizer Initialization\n",
    "tokenizer = AutoTokenizer.from_pretrained(MODEL_NAME)"
   ]
  },
  {
   "cell_type": "markdown",
   "id": "b2c1c963",
   "metadata": {},
   "source": [
    "### 4.2. PyTorch Dataset Class\n",
    "A custom `Dataset` class is defined to handle the tokenization and formatting of input data (discourse text and essay full text) for the model. It prepares `input_ids`, `attention_mask`, `token_type_ids`, and `labels`."
   ]
  },
  {
   "cell_type": "code",
   "execution_count": 7,
   "id": "4c17f03a",
   "metadata": {},
   "outputs": [],
   "source": [
    "# Cell 7: PyTorch Dataset Class\n",
    "class FeedbackPrizeDataset(Dataset):\n",
    "    def __init__(self, dataframe, tokenizer, max_len, has_labels=True):\n",
    "        self.dataframe = dataframe\n",
    "        self.tokenizer = tokenizer\n",
    "        self.max_len = max_len\n",
    "        self.has_labels = has_labels\n",
    "\n",
    "    def __len__(self):\n",
    "        return len(self.dataframe)\n",
    "\n",
    "    def __getitem__(self, idx):\n",
    "        row = self.dataframe.iloc[idx]\n",
    "\n",
    "        text_A = str(row.discourse_text) if pd.notna(row.discourse_text) and str(row.discourse_text).strip() else \" \"\n",
    "        text_B = str(row.essay_full_text) if pd.notna(row.essay_full_text) and str(row.essay_full_text).strip() else \" \"\n",
    "\n",
    "        # Ensure texts are not just whitespace, which can cause issues with some tokenizers\n",
    "        if not text_A.strip(): text_A = \"[EMPTY_DISCOURSE]\" # Use a placeholder or just a space\n",
    "        if not text_B.strip(): text_B = \"[EMPTY_ESSAY]\"   # Use a placeholder or just a space\n",
    "\n",
    "        inputs = self.tokenizer.encode_plus(\n",
    "            text_A,\n",
    "            text_B,\n",
    "            add_special_tokens=True,\n",
    "            max_length=self.max_len,\n",
    "            padding='max_length',\n",
    "            truncation='longest_first', # Truncate the longer sequence if combined length exceeds max_len\n",
    "            return_attention_mask=True,\n",
    "            return_token_type_ids=True, # For models that use segment embeddings (like BERT)\n",
    "            return_tensors='pt'\n",
    "        )\n",
    "\n",
    "        item = {\n",
    "            'input_ids': inputs['input_ids'].flatten(),\n",
    "            'attention_mask': inputs['attention_mask'].flatten(),\n",
    "            'token_type_ids': inputs['token_type_ids'].flatten()\n",
    "        }\n",
    "\n",
    "        if self.has_labels:\n",
    "            item['labels'] = torch.tensor(row.effectiveness_encoded, dtype=torch.long)\n",
    "\n",
    "        return item"
   ]
  },
  {
   "cell_type": "markdown",
   "id": "240e11a5",
   "metadata": {},
   "source": [
    "### 4.3. Example Dataset Instantiation and Item Check\n",
    "This cell demonstrates the usage of the `FeedbackPrizeDataset` and allows inspection of a sample item."
   ]
  },
  {
   "cell_type": "code",
   "execution_count": 8,
   "id": "3a64a027",
   "metadata": {},
   "outputs": [
    {
     "name": "stdout",
     "output_type": "stream",
     "text": [
      "Instantiating example training dataset...\n",
      "Successfully created example dataset with 5 samples.\n",
      "\n",
      "Sample item from dataset (index 0):\n",
      "  input_ids: shape torch.Size([512]), dtype torch.int64\n",
      "  attention_mask: shape torch.Size([512]), dtype torch.int64\n",
      "  token_type_ids: shape torch.Size([512]), dtype torch.int64\n",
      "  labels: shape torch.Size([]), dtype torch.int64\n",
      "\n",
      "  Decoded input_ids (index 0):\n",
      "  '[CLS] during free time, students aren ' t putting their time into anything anyway. letting them use their phones will have no affect what so ever or anything important, such as school work. [SEP] dear principal, out of the two possible policies you are considering i would have to say that i favor the second. the idea of allowing students to use cell phones during free time makes absolute sense. not allowing the phones during class time is respectable as well, that way the learning isn ' t affected. during free time, students aren ' t putting their time into anything anyway. letting them use their phones will have no affect what so ever or anything important, such as school work. there is really no downside to policy number one. it will make most students very pleased as well. policy two however, i am against. the idea of no phones what so ever seems harsh and strict. what is the student is having a bad day and can ' t call a parents for a little help? that could affect how the learn in school, not being able to have outside connections. it would be like the student was in a cage for an entire school day, how would you feel to be locked up in a cage? the student ' s should be allowed their freedom. there is always a punishment for not following the rules, some will have to be thought of, of course, if the new policy that you choose is not followed. don ' t expect everything to run smooth at first, things may always be changed. try out letting students use the phones during free time, it ' s just something new. it may lead to a happier environment, and maybe even better grades for students. young people love freedom and being allowed to do what they want, giving them this freedom could have a tremendous outcome. i am sure that you have many other things to think about, so, with that i give you, thank you and goodbye. sincerely, a student with a voice. [SEP] [PAD] [PAD] [PAD] [PAD] [PAD] [PAD] [PAD] [PAD] [PAD] [PAD] [PAD] [PAD] [PAD] [PAD] [PAD] [PAD] [PAD] [PAD] [PAD] [PAD] [PAD] [PAD] [PAD] [PAD] [PAD] [PAD] [PAD] [PAD] [PAD] [PAD] [PAD] [PAD] [PAD] [PAD] [PAD] [PAD] [PAD] [PAD] [PAD] [PAD] [PAD] [PAD] [PAD] [PAD] [PAD] [PAD] [PAD] [PAD] [PAD] [PAD] [PAD] [PAD] [PAD] [PAD] [PAD] [PAD] [PAD] [PAD] [PAD] [PAD] [PAD] [PAD] [PAD] [PAD] [PAD] [PAD] [PAD] [PAD] [PAD] [PAD] [PAD] [PAD] [PAD] [PAD] [PAD] [PAD] [PAD] [PAD] [PAD] [PAD] [PAD] [PAD] [PAD] [PAD] [PAD] [PAD] [PAD] [PAD] [PAD] [PAD] [PAD] [PAD] [PAD] [PAD] [PAD] [PAD] [PAD] [PAD] [PAD] [PAD] [PAD] [PAD] [PAD] [PAD] [PAD] [PAD] [PAD] [PAD] [PAD] [PAD] [PAD] [PAD] [PAD] [PAD] [PAD] [PAD] [PAD] [PAD]'\n"
     ]
    }
   ],
   "source": [
    "# Cell 8: Dataset Instantiation and Check\n",
    "print(\"Instantiating example training dataset...\")\n",
    "\n",
    "example_check_df = df_train_split.head() # Or df_train.head() if before split\n",
    "temp_dataset = FeedbackPrizeDataset(example_check_df, tokenizer, MAX_LEN, has_labels=True)\n",
    "\n",
    "if len(temp_dataset) > 0:\n",
    "    print(f\"Successfully created example dataset with {len(temp_dataset)} samples.\")\n",
    "    sample_item = temp_dataset[0]\n",
    "    print(\"\\nSample item from dataset (index 0):\")\n",
    "    for key, value in sample_item.items():\n",
    "        print(f\"  {key}: shape {value.shape}, dtype {value.dtype}\")\n",
    "    decoded_text = tokenizer.decode(sample_item['input_ids'], skip_special_tokens=False)\n",
    "    print(f\"\\n  Decoded input_ids (index 0):\\n  '{decoded_text}'\")\n",
    "else:\n",
    "    print(\"Example dataset is empty or not run.\")"
   ]
  },
  {
   "cell_type": "markdown",
   "id": "d73bdb2f",
   "metadata": {},
   "source": [
    "## 5. Model Definition\n",
    "We load the pre-trained transformer model (`AutoModelForSequenceClassification`) with a classification head appropriate for `NUM_LABELS`. The model is then moved to the configured `device` (GPU or CPU)."
   ]
  },
  {
   "cell_type": "code",
   "execution_count": 9,
   "id": "e09af451",
   "metadata": {},
   "outputs": [
    {
     "name": "stdout",
     "output_type": "stream",
     "text": [
      "Defining model: bert-base-uncased for 3 classes.\n"
     ]
    },
    {
     "name": "stderr",
     "output_type": "stream",
     "text": [
      "Some weights of BertForSequenceClassification were not initialized from the model checkpoint at bert-base-uncased and are newly initialized: ['classifier.bias', 'classifier.weight']\n",
      "You should probably TRAIN this model on a down-stream task to be able to use it for predictions and inference.\n"
     ]
    },
    {
     "name": "stdout",
     "output_type": "stream",
     "text": [
      "Model loaded on device: cuda\n",
      "\n",
      "Model Architecture:\n",
      "BertForSequenceClassification(\n",
      "  (bert): BertModel(\n",
      "    (embeddings): BertEmbeddings(\n",
      "      (word_embeddings): Embedding(30522, 768, padding_idx=0)\n",
      "      (position_embeddings): Embedding(512, 768)\n",
      "      (token_type_embeddings): Embedding(2, 768)\n",
      "      (LayerNorm): LayerNorm((768,), eps=1e-12, elementwise_affine=True)\n",
      "      (dropout): Dropout(p=0.1, inplace=False)\n",
      "    )\n",
      "    (encoder): BertEncoder(\n",
      "      (layer): ModuleList(\n",
      "        (0-11): 12 x BertLayer(\n",
      "          (attention): BertAttention(\n",
      "            (self): BertSdpaSelfAttention(\n",
      "              (query): Linear(in_features=768, out_features=768, bias=True)\n",
      "              (key): Linear(in_features=768, out_features=768, bias=True)\n",
      "              (value): Linear(in_features=768, out_features=768, bias=True)\n",
      "              (dropout): Dropout(p=0.1, inplace=False)\n",
      "            )\n",
      "            (output): BertSelfOutput(\n",
      "              (dense): Linear(in_features=768, out_features=768, bias=True)\n",
      "              (LayerNorm): LayerNorm((768,), eps=1e-12, elementwise_affine=True)\n",
      "              (dropout): Dropout(p=0.1, inplace=False)\n",
      "            )\n",
      "          )\n",
      "          (intermediate): BertIntermediate(\n",
      "            (dense): Linear(in_features=768, out_features=3072, bias=True)\n",
      "            (intermediate_act_fn): GELUActivation()\n",
      "          )\n",
      "          (output): BertOutput(\n",
      "            (dense): Linear(in_features=3072, out_features=768, bias=True)\n",
      "            (LayerNorm): LayerNorm((768,), eps=1e-12, elementwise_affine=True)\n",
      "            (dropout): Dropout(p=0.1, inplace=False)\n",
      "          )\n",
      "        )\n",
      "      )\n",
      "    )\n",
      "    (pooler): BertPooler(\n",
      "      (dense): Linear(in_features=768, out_features=768, bias=True)\n",
      "      (activation): Tanh()\n",
      "    )\n",
      "  )\n",
      "  (dropout): Dropout(p=0.1, inplace=False)\n",
      "  (classifier): Linear(in_features=768, out_features=3, bias=True)\n",
      ")\n"
     ]
    }
   ],
   "source": [
    "# Cell 9: Model Definition\n",
    "print(f\"Defining model: {MODEL_NAME} for {NUM_LABELS} classes.\")\n",
    "\n",
    "model = AutoModelForSequenceClassification.from_pretrained(\n",
    "    MODEL_NAME,\n",
    "    num_labels=NUM_LABELS\n",
    ")\n",
    "model.to(device)\n",
    "print(f\"Model loaded on device: {device}\")\n",
    "\n",
    "# To see the model architecture (can be very verbose):\n",
    "print(\"\\nModel Architecture:\")\n",
    "print(model)"
   ]
  },
  {
   "cell_type": "markdown",
   "id": "d2eb4505",
   "metadata": {},
   "source": [
    "## 6. DataLoader Creation\n",
    "PyTorch `DataLoader`s are created for the training and validation sets. These handle batching, shuffling (for training), and parallel data loading."
   ]
  },
  {
   "cell_type": "code",
   "execution_count": 10,
   "id": "1b37675c",
   "metadata": {},
   "outputs": [
    {
     "name": "stdout",
     "output_type": "stream",
     "text": [
      "Attempting to use 12 workers for DataLoaders.\n",
      "\n",
      "DataLoaders created.\n",
      "  Train DataLoader: 4136 batches of size 8\n",
      "  Validation DataLoader: 230 batches of size 16\n"
     ]
    }
   ],
   "source": [
    "# Cell 10: DataLoader Creation\n",
    "train_torch_dataset = FeedbackPrizeDataset(df_train_split, tokenizer, MAX_LEN, has_labels=True)\n",
    "val_torch_dataset = FeedbackPrizeDataset(df_val_split, tokenizer, MAX_LEN, has_labels=True)\n",
    "# test_torch_dataset is created in the prediction notebook\n",
    "\n",
    "# Determine num_workers for DataLoader\n",
    "# Using a simple approach here; os.sched_getaffinity might not be available on all platforms.\n",
    "try:\n",
    "    num_avail_workers = len(os.sched_getaffinity(0)) // 2\n",
    "except AttributeError:\n",
    "    num_avail_workers = (os.cpu_count() // 2) if os.cpu_count() and os.cpu_count() > 1 else 0\n",
    "num_avail_workers = max(0, num_avail_workers) # Ensure non-negative\n",
    "# For debugging or on platforms with issues, set num_avail_workers = 0\n",
    "# num_avail_workers = 0\n",
    "print(f\"Attempting to use {num_avail_workers} workers for DataLoaders.\")\n",
    "\n",
    "\n",
    "train_dataloader = DataLoader(\n",
    "    train_torch_dataset,\n",
    "    batch_size=BATCH_SIZE,\n",
    "    shuffle=True,\n",
    "    num_workers=num_avail_workers,\n",
    "    pin_memory=True if device.type == 'cuda' else False\n",
    ")\n",
    "\n",
    "val_dataloader = DataLoader(\n",
    "    val_torch_dataset,\n",
    "    batch_size=BATCH_SIZE * 2, # Typically use larger batch size for validation\n",
    "    shuffle=False,\n",
    "    num_workers=num_avail_workers,\n",
    "    pin_memory=True if device.type == 'cuda' else False\n",
    ")\n",
    "\n",
    "print(\"\\nDataLoaders created.\")\n",
    "print(f\"  Train DataLoader: {len(train_dataloader)} batches of size {BATCH_SIZE}\")\n",
    "print(f\"  Validation DataLoader: {len(val_dataloader)} batches of size {BATCH_SIZE * 2}\")"
   ]
  },
  {
   "cell_type": "markdown",
   "id": "b2f8628f",
   "metadata": {},
   "source": [
    "## 7. Optimizer, Scheduler, and Loss Function\n",
    "* **Optimizer**: `AdamW` is chosen, a common optimizer for transformer models.\n",
    "* **Scheduler**: A linear learning rate scheduler with warmup (`get_linear_schedule_with_warmup`) is used.\n",
    "* **Loss Function**: `nn.CrossEntropyLoss` is used, suitable for multi-class classification."
   ]
  },
  {
   "cell_type": "code",
   "execution_count": 11,
   "id": "d9a6d474",
   "metadata": {},
   "outputs": [
    {
     "name": "stdout",
     "output_type": "stream",
     "text": [
      "Optimizer, Scheduler, and Loss Function (criterion) initialized.\n",
      "Total training steps: 8272\n",
      "Warmup steps: 828\n"
     ]
    },
    {
     "name": "stderr",
     "output_type": "stream",
     "text": [
      "/home/denis/kpi/iasa_nlp_labs/feedback_prize_effectiveness/.venv/lib/python3.10/site-packages/transformers/optimization.py:640: FutureWarning: This implementation of AdamW is deprecated and will be removed in a future version. Use the PyTorch implementation torch.optim.AdamW instead, or set `no_deprecation_warning=True` to disable this warning\n",
      "  warnings.warn(\n"
     ]
    }
   ],
   "source": [
    "# Cell 11: Optimizer, Scheduler, Loss\n",
    "optimizer = AdamW(model.parameters(),\n",
    "                  lr=LEARNING_RATE,\n",
    "                  eps=ADAM_EPSILON)\n",
    "\n",
    "total_steps = len(train_dataloader) * EPOCHS\n",
    "num_warmup_steps = math.ceil(total_steps * WARMUP_STEPS_RATIO)\n",
    "\n",
    "scheduler = get_linear_schedule_with_warmup(optimizer,\n",
    "                                            num_warmup_steps=num_warmup_steps,\n",
    "                                            num_training_steps=total_steps)\n",
    "\n",
    "criterion = nn.CrossEntropyLoss() \n",
    "\n",
    "print(\"Optimizer, Scheduler, and Loss Function (criterion) initialized.\")\n",
    "print(f\"Total training steps: {total_steps}\")\n",
    "print(f\"Warmup steps: {num_warmup_steps}\")"
   ]
  },
  {
   "cell_type": "markdown",
   "id": "4424598b",
   "metadata": {},
   "source": [
    "## 8. Training and Evaluation Loop\n",
    "The main loop iterates for a specified number of `EPOCHS`. In each epoch:\n",
    "1.  The model is set to `train` mode, and training is performed on batches from `train_dataloader`.\n",
    "2.  The model is set to `eval` mode, and evaluation is performed on `val_dataloader`.\n",
    "3.  Metrics (loss, accuracy, log loss) are calculated and recorded.\n",
    "4.  The model and tokenizer that achieve the best validation log loss are saved."
   ]
  },
  {
   "cell_type": "code",
   "execution_count": 12,
   "id": "f0decc10",
   "metadata": {},
   "outputs": [
    {
     "name": "stdout",
     "output_type": "stream",
     "text": [
      "Starting training for 2 epochs...\n",
      "\n",
      "======== Epoch 1 / 2 ========\n",
      "Training...\n"
     ]
    },
    {
     "name": "stderr",
     "output_type": "stream",
     "text": [
      "Training Batches: 100%|██████████| 4136/4136 [13:35<00:00,  5.07it/s]\n"
     ]
    },
    {
     "name": "stdout",
     "output_type": "stream",
     "text": [
      "  Average training loss: 0.7328\n",
      "  Training epoch took: 0:13:35\n",
      "\n",
      "Running Validation...\n"
     ]
    },
    {
     "name": "stderr",
     "output_type": "stream",
     "text": [
      "Validation Batches: 100%|██████████| 230/230 [00:26<00:00,  8.67it/s]\n"
     ]
    },
    {
     "name": "stdout",
     "output_type": "stream",
     "text": [
      "  Validation CrossEntropy Loss: 0.6131\n",
      "  Validation LogLoss (Competition Metric): 0.6131\n",
      "  Validation Accuracy: 0.7308\n",
      "  Validation took: 0:00:27\n",
      "  Best validation logloss improved to 0.6131. Saving model to ../models/best_model/bert-base-uncased-best.pt\n",
      "\n",
      "======== Epoch 2 / 2 ========\n",
      "Training...\n"
     ]
    },
    {
     "name": "stderr",
     "output_type": "stream",
     "text": [
      "Training Batches: 100%|██████████| 4136/4136 [13:24<00:00,  5.14it/s]\n"
     ]
    },
    {
     "name": "stdout",
     "output_type": "stream",
     "text": [
      "  Average training loss: 0.5792\n",
      "  Training epoch took: 0:13:25\n",
      "\n",
      "Running Validation...\n"
     ]
    },
    {
     "name": "stderr",
     "output_type": "stream",
     "text": [
      "Validation Batches: 100%|██████████| 230/230 [00:23<00:00,  9.94it/s]\n"
     ]
    },
    {
     "name": "stdout",
     "output_type": "stream",
     "text": [
      "  Validation CrossEntropy Loss: 0.5921\n",
      "  Validation LogLoss (Competition Metric): 0.5918\n",
      "  Validation Accuracy: 0.7473\n",
      "  Validation took: 0:00:23\n",
      "  Best validation logloss improved to 0.5918. Saving model to ../models/best_model/bert-base-uncased-best.pt\n",
      "\n",
      "======== Training complete! ========\n",
      "\n",
      "Best validation LogLoss achieved: 0.5918\n",
      "\n",
      "Training statistics:\n",
      "       Training Loss  Valid. CE Loss  Valid. LogLoss  Valid. Accur.  \\\n",
      "epoch                                                                 \n",
      "1           0.732809        0.613145        0.613086       0.730759   \n",
      "2           0.579217        0.592054        0.591801       0.747348   \n",
      "\n",
      "      Training Time Validation Time  \n",
      "epoch                                \n",
      "1           0:13:35         0:00:27  \n",
      "2           0:13:25         0:00:23  \n"
     ]
    },
    {
     "data": {
      "text/html": [],
      "text/plain": [
       "<IPython.core.display.HTML object>"
      ]
     },
     "metadata": {},
     "output_type": "display_data"
    },
    {
     "data": {
      "text/html": [
       "<br>    <style><br>        .wandb-row {<br>            display: flex;<br>            flex-direction: row;<br>            flex-wrap: wrap;<br>            justify-content: flex-start;<br>            width: 100%;<br>        }<br>        .wandb-col {<br>            display: flex;<br>            flex-direction: column;<br>            flex-basis: 100%;<br>            flex: 1;<br>            padding: 10px;<br>        }<br>    </style><br><div class=\"wandb-row\"><div class=\"wandb-col\"><h3>Run history:</h3><br/><table class=\"wandb\"><tr><td>avg_train_loss</td><td>█▁</td></tr><tr><td>avg_val_CE_loss</td><td>█▁</td></tr><tr><td>epoch</td><td>▁█</td></tr><tr><td>learning_rate</td><td>█▁</td></tr><tr><td>val_accuracy</td><td>▁█</td></tr><tr><td>val_logloss</td><td>█▁</td></tr></table><br/></div><div class=\"wandb-col\"><h3>Run summary:</h3><br/><table class=\"wandb\"><tr><td>avg_train_loss</td><td>0.57922</td></tr><tr><td>avg_val_CE_loss</td><td>0.59205</td></tr><tr><td>best_epoch</td><td>2</td></tr><tr><td>best_val_accuracy</td><td>0.74735</td></tr><tr><td>best_val_logloss</td><td>0.5918</td></tr><tr><td>epoch</td><td>2</td></tr><tr><td>learning_rate</td><td>0</td></tr><tr><td>val_accuracy</td><td>0.74735</td></tr><tr><td>val_logloss</td><td>0.5918</td></tr></table><br/></div></div>"
      ],
      "text/plain": [
       "<IPython.core.display.HTML object>"
      ]
     },
     "metadata": {},
     "output_type": "display_data"
    },
    {
     "data": {
      "text/html": [
       " View run <strong style=\"color:#cdcd00\">bert-base-uncased-e2-lr2e-05-bs8-20250515-1957</strong> at: <a href='https://wandb.ai/denis-katkalo-kpi/feedback-prize-effectiveness-lab/runs/rsrtih9z' target=\"_blank\">https://wandb.ai/denis-katkalo-kpi/feedback-prize-effectiveness-lab/runs/rsrtih9z</a><br> View project at: <a href='https://wandb.ai/denis-katkalo-kpi/feedback-prize-effectiveness-lab' target=\"_blank\">https://wandb.ai/denis-katkalo-kpi/feedback-prize-effectiveness-lab</a><br>Synced 5 W&B file(s), 1 media file(s), 10 artifact file(s) and 0 other file(s)"
      ],
      "text/plain": [
       "<IPython.core.display.HTML object>"
      ]
     },
     "metadata": {},
     "output_type": "display_data"
    },
    {
     "data": {
      "text/html": [
       "Find logs at: <code>../outputs/wandb/run-20250515_195800-rsrtih9z/logs</code>"
      ],
      "text/plain": [
       "<IPython.core.display.HTML object>"
      ]
     },
     "metadata": {},
     "output_type": "display_data"
    }
   ],
   "source": [
    "# --- Code Cell (Cell 12: Training and Evaluation Loop) ---\n",
    "def format_time(elapsed_seconds):\n",
    "    \"\"\"Takes a time in seconds and returns a string H:MM:SS\"\"\"\n",
    "    elapsed_rounded = int(round(elapsed_seconds))\n",
    "    return str(datetime.timedelta(seconds=elapsed_rounded))\n",
    "\n",
    "training_stats = []\n",
    "best_val_logloss = float('inf')\n",
    "\n",
    "# Optional: Watch model gradients and parameters (can be resource-intensive)\n",
    "# wandb.watch(model, log=\"all\", log_freq=100)\n",
    "\n",
    "print(f\"Starting training for {EPOCHS} epochs...\") # EPOCHS from config\n",
    "\n",
    "for epoch_i in range(wandb.config.epochs): # Use wandb.config.epochs\n",
    "    print(f\"\\n======== Epoch {epoch_i + 1} / {wandb.config.epochs} ========\")\n",
    "    epoch_start_time = time.time()\n",
    "\n",
    "    # --- Training Phase ---\n",
    "    print('Training...')\n",
    "    t0 = time.time()\n",
    "    total_train_loss = 0\n",
    "    model.train()\n",
    "\n",
    "    for step, batch in tqdm(enumerate(train_dataloader), total=len(train_dataloader), desc=\"Training Batches\"):\n",
    "        b_input_ids = batch['input_ids'].to(device)\n",
    "        b_attention_mask = batch['attention_mask'].to(device)\n",
    "        b_token_type_ids = batch['token_type_ids'].to(device)\n",
    "        b_labels = batch['labels'].to(device)\n",
    "\n",
    "        model.zero_grad()\n",
    "        outputs = model(b_input_ids,\n",
    "                        token_type_ids=b_token_type_ids,\n",
    "                        attention_mask=b_attention_mask,\n",
    "                        labels=b_labels)\n",
    "\n",
    "        loss = outputs.loss\n",
    "        total_train_loss += loss.item()\n",
    "        loss.backward()\n",
    "        torch.nn.utils.clip_grad_norm_(model.parameters(), 1.0)\n",
    "        optimizer.step()\n",
    "        scheduler.step()\n",
    "\n",
    "    avg_train_loss = total_train_loss / len(train_dataloader)\n",
    "    epoch_training_time = format_time(time.time() - t0)\n",
    "    print(f\"  Average training loss: {avg_train_loss:.4f}\")\n",
    "    print(f\"  Training epoch took: {epoch_training_time}\")\n",
    "\n",
    "    # --- Validation Phase ---\n",
    "    print(\"\\nRunning Validation...\")\n",
    "    t0 = time.time()\n",
    "    model.eval()\n",
    "    total_eval_loss = 0\n",
    "    all_val_preds_probs = []\n",
    "    all_val_labels = []\n",
    "\n",
    "    for batch in tqdm(val_dataloader, total=len(val_dataloader), desc=\"Validation Batches\"):\n",
    "        b_input_ids = batch['input_ids'].to(device)\n",
    "        b_attention_mask = batch['attention_mask'].to(device)\n",
    "        b_token_type_ids = batch['token_type_ids'].to(device)\n",
    "        b_labels = batch['labels'].to(device)\n",
    "\n",
    "        with torch.no_grad():\n",
    "            outputs = model(b_input_ids,\n",
    "                            token_type_ids=b_token_type_ids,\n",
    "                            attention_mask=b_attention_mask,\n",
    "                            labels=b_labels)\n",
    "        loss = outputs.loss\n",
    "        logits = outputs.logits\n",
    "        total_eval_loss += loss.item()\n",
    "        probs = torch.softmax(logits, dim=1).detach().cpu().numpy()\n",
    "        all_val_preds_probs.extend(probs)\n",
    "        all_val_labels.extend(b_labels.to('cpu').numpy())\n",
    "\n",
    "    avg_val_CE_loss = total_eval_loss / len(val_dataloader)\n",
    "    all_val_preds_probs_stacked = np.vstack(all_val_preds_probs)\n",
    "    all_val_labels_flat = np.array(all_val_labels)\n",
    "    all_val_preds_classes = np.argmax(all_val_preds_probs_stacked, axis=1)\n",
    "    val_accuracy = accuracy_score(all_val_labels_flat, all_val_preds_classes)\n",
    "    val_logloss_metric = log_loss(all_val_labels_flat, all_val_preds_probs_stacked, labels=label_encoder.transform(label_encoder.classes_))\n",
    "    epoch_validation_time = format_time(time.time() - t0)\n",
    "\n",
    "    print(f\"  Validation CrossEntropy Loss: {avg_val_CE_loss:.4f}\")\n",
    "    print(f\"  Validation LogLoss (Competition Metric): {val_logloss_metric:.4f}\")\n",
    "    print(f\"  Validation Accuracy: {val_accuracy:.4f}\")\n",
    "    print(f\"  Validation took: {epoch_validation_time}\")\n",
    "\n",
    "    # --- Log metrics to wandb ---\n",
    "    wandb.log({\n",
    "        \"epoch\": epoch_i + 1, # Log epoch\n",
    "        \"avg_train_loss\": avg_train_loss,\n",
    "        \"avg_val_CE_loss\": avg_val_CE_loss,\n",
    "        \"val_logloss\": val_logloss_metric,\n",
    "        \"val_accuracy\": val_accuracy,\n",
    "        \"learning_rate\": scheduler.get_last_lr()[0] # Log current learning rate\n",
    "    })\n",
    "\n",
    "    training_stats.append({\n",
    "        'epoch': epoch_i + 1,\n",
    "        'Training Loss': avg_train_loss,\n",
    "        'Valid. CE Loss': avg_val_CE_loss,\n",
    "        'Valid. LogLoss': val_logloss_metric,\n",
    "        'Valid. Accur.': val_accuracy,\n",
    "        'Training Time': epoch_training_time,\n",
    "        'Validation Time': epoch_validation_time\n",
    "    })\n",
    "\n",
    "    if val_logloss_metric < best_val_logloss:\n",
    "        best_val_logloss = val_logloss_metric\n",
    "        best_model_dir = os.path.join(MODELS_OUTPUT_DIR, \"best_model\")\n",
    "        if not os.path.exists(best_model_dir):\n",
    "            os.makedirs(best_model_dir)\n",
    "        model_save_path = os.path.join(best_model_dir, f\"{wandb.config.model_name}-best.pt\") # Use wandb.config\n",
    "        tokenizer_save_path = best_model_dir\n",
    "        torch.save(model.state_dict(), model_save_path)\n",
    "        tokenizer.save_pretrained(tokenizer_save_path)\n",
    "        print(f\"  Best validation logloss improved to {best_val_logloss:.4f}. Saving model to {model_save_path}\")\n",
    "\n",
    "        # Update wandb summary with best scores\n",
    "        wandb.summary[\"best_val_logloss\"] = best_val_logloss\n",
    "        wandb.summary[\"best_val_accuracy\"] = val_accuracy\n",
    "        wandb.summary[\"best_epoch\"] = epoch_i + 1\n",
    "        \n",
    "        # Optional: Save best model as a wandb artifact\n",
    "        best_model_artifact = wandb.Artifact(f\"{wandb.run.name}-best-model\", type=\"model\")\n",
    "        best_model_artifact.add_file(model_save_path)\n",
    "        tokenizer_files = [os.path.join(tokenizer_save_path, f) for f in os.listdir(tokenizer_save_path) if os.path.isfile(os.path.join(tokenizer_save_path, f))]\n",
    "        for f_path in tokenizer_files:\n",
    "           best_model_artifact.add_file(f_path, name=os.path.basename(f_path))\n",
    "        wandb.log_artifact(best_model_artifact)\n",
    "\n",
    "\n",
    "print(\"\\n======== Training complete! ========\\n\")\n",
    "print(f\"Best validation LogLoss achieved: {best_val_logloss:.4f}\")\n",
    "\n",
    "df_stats = pd.DataFrame(data=training_stats)\n",
    "df_stats = df_stats.set_index('epoch')\n",
    "print(\"\\nTraining statistics:\")\n",
    "print(df_stats)\n",
    "\n",
    "# Optional: Log final stats table as wandb.Table\n",
    "if not df_stats.empty:\n",
    "    wandb.log({\"training_summary_table\": wandb.Table(dataframe=df_stats.reset_index())})\n",
    "\n",
    "# --- Finish wandb run ---\n",
    "wandb.finish()"
   ]
  },
  {
   "cell_type": "markdown",
   "id": "8656040a",
   "metadata": {},
   "source": [
    "## 9. Next Steps\n",
    "- **Plot Training Curves**: Visualize training loss, validation loss, and validation accuracy over epochs.\n",
    "- **Error Analysis**: Investigate samples where the model performed poorly.\n",
    "- **Prediction on Test Set**: Use the saved best model to generate predictions for the actual test set (done in `prediction_and_submission.ipynb`).\n",
    "- **Experiment Tracking**: Integrate tools like Weights & Biases or MLflow for more comprehensive experiment logging and comparison (as per lab instructions)."
   ]
  },
  {
   "cell_type": "code",
   "execution_count": 13,
   "id": "126866b9",
   "metadata": {},
   "outputs": [
    {
     "data": {
      "image/png": "[encoded data removed]",
      "text/plain": [
       "<Figure size 1200x600 with 2 Axes>"
      ]
     },
     "metadata": {},
     "output_type": "display_data"
    },
    {
     "name": "stdout",
     "output_type": "stream",
     "text": [
      "Training curves plot saved to ../outputs/training_curves.png\n"
     ]
    },
    {
     "data": {
      "text/plain": [
       "<Figure size 640x480 with 0 Axes>"
      ]
     },
     "metadata": {},
     "output_type": "display_data"
    }
   ],
   "source": [
    "# To plot training curves (example using matplotlib):\n",
    "import matplotlib.pyplot as plt\n",
    "\n",
    "plt.figure(figsize=(12, 6))\n",
    "\n",
    "plt.subplot(1, 2, 1)\n",
    "plt.plot(df_stats.index, df_stats['Training Loss'], label='Training Loss')\n",
    "plt.plot(df_stats.index, df_stats['Valid. LogLoss'], label='Validation LogLoss')\n",
    "plt.title('Loss over Epochs')\n",
    "plt.xlabel('Epoch')\n",
    "plt.ylabel('Loss')\n",
    "plt.legend()\n",
    "\n",
    "plt.subplot(1, 2, 2)\n",
    "plt.plot(df_stats.index, df_stats['Valid. Accur.'], label='Validation Accuracy')\n",
    "plt.title('Accuracy over Epochs')\n",
    "plt.xlabel('Epoch')\n",
    "plt.ylabel('Accuracy')\n",
    "plt.legend()\n",
    "\n",
    "plt.tight_layout()\n",
    "plt.show()\n",
    "\n",
    "# Save the plot\n",
    "plot_path = os.path.join(PROJECT_ROOT, \"outputs\", \"training_curves.png\")\n",
    "plt.savefig(plot_path)\n",
    "print(f\"Training curves plot saved to {plot_path}\")"
   ]
  },
  {
   "cell_type": "markdown",
   "id": "5f8d6b8b",
   "metadata": {},
   "source": [
    "<img src=\"../outputs/result.png\"/>"
   ]
  },
  {
   "cell_type": "markdown",
   "id": "459408fc",
   "metadata": {},
   "source": [
    "## 6. Conclusions\n",
    "\n",
    "This project tackled the classification of discourse effectiveness in student essays using a `bert-base-uncased` model. Key takeaways are:\n",
    "\n",
    "* **Approach:** I fine-tuned `bert-base-uncased` on a combination of discourse and full essay texts. A stratified 90/10 train-validation split was used for local evaluation due to the Kaggle `test.csv` being a small, non-representative sample. Weights & Biases (`wandb`) helped track experiments.\n",
    "* **Performance:**\n",
    "    * **Local Best:** Achieved a Log Loss of **0.5725** and ~74.93% accuracy on our validation set.\n",
    "    * **Kaggle Scores:** Public LogLoss **0.75670**, Private LogLoss **0.73063**.\n",
    "    * The gap between local and Kaggle scores highlights the challenge of perfectly simulating the hidden test set with a local split.\n",
    "* **Key Learning:** Transformer models are effective for this task. However, robust local validation that closely mimics the hidden test set is crucial and challenging.\n",
    "* **Limitations:** Time constraints limited training to 2 epochs and prevented more extensive experimentation (e.g., deeper hyperparameter tuning or K-Fold cross-validation).\n",
    "* **Next Step Recommendation:** For improved reliability, employing `GroupKFold` cross-validation (grouped by `essay_id`) would be a valuable next step to better estimate model generalization.\n",
    "\n",
    "Overall, the project established a working pipeline and achieved reasonable results, underscoring the importance of both model choice and validation strategy in NLP tasks."
   ]
  }
 ],
 "metadata": {
  "kernelspec": {
   "display_name": ".venv",
   "language": "python",
   "name": "python3"
  },
  "language_info": {
   "codemirror_mode": {
    "name": "ipython",
    "version": 3
   },
   "file_extension": ".py",
   "mimetype": "text/x-python",
   "name": "python",
   "nbconvert_exporter": "python",
   "pygments_lexer": "ipython3",
   "version": "3.10.12"
  }
 },
 "nbformat": 4,
 "nbformat_minor": 5
}
